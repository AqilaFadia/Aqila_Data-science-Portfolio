{
  "nbformat": 4,
  "nbformat_minor": 0,
  "metadata": {
    "colab": {
      "provenance": []
    },
    "kernelspec": {
      "name": "python3",
      "display_name": "Python 3"
    },
    "language_info": {
      "name": "python"
    }
  },
  "cells": [
    {
      "cell_type": "markdown",
      "source": [
        "# An Analysis of Stock Prices."
      ],
      "metadata": {
        "id": "4Ccp0yYJLgcK"
      }
    },
    {
      "cell_type": "markdown",
      "source": [
        "### Business understanding\n",
        "The SP500.csv dataset contains historical data on the stock prices of the top 500 companies listed on the New York Stock Exchange (NYSE) and NASDAQ. As a data scientist, our goal is to use this dataset to gain insights into the stock market trends and help investors make informed decisions."
      ],
      "metadata": {
        "id": "qUuI6C8tLi8j"
      }
    },
    {
      "cell_type": "markdown",
      "source": [
        "### Problem statement\n",
        "With the volatility of the stock market, investors are often looking for ways to make data-driven decisions about their investments. However, analyzing large amounts of stock market data can be time-consuming and overwhelming. Therefore, the problem statement is to create a model that can analyze the stock prices of the top 500 companies and provide valuable insights to investors.\n",
        "\n"
      ],
      "metadata": {
        "id": "9_30Fi24MRaT"
      }
    },
    {
      "cell_type": "markdown",
      "source": [
        "### Solution\n",
        "Our solution to the problem statement is to use machine learning algorithms and statistical analysis to create a predictive model that can identify trends and patterns in the stock market data. We will also perform data visualization to present the insights in an easy-to-understand format. By using this approach, we can help investors make informed decisions based on historical data and current trends in the stock market."
      ],
      "metadata": {
        "id": "zjENN6zJMcGx"
      }
    },
    {
      "cell_type": "markdown",
      "source": [
        "#### Import Library"
      ],
      "metadata": {
        "id": "Ker6qJNSMphm"
      }
    },
    {
      "cell_type": "code",
      "execution_count": null,
      "metadata": {
        "id": "KjdEF7E4CGA_"
      },
      "outputs": [],
      "source": [
        "import numpy as np\n",
        "import pandas as pd\n",
        "import seaborn as sns\n",
        "sns.set_style('whitegrid')\n",
        "import matplotlib.pyplot as plt\n",
        "plt.style.use(\"fivethirtyeight\")\n",
        "import sklearn\n",
        "import tensorflow as tf\n",
        "\n",
        "from sklearn import datasets\n",
        "from keras.models import Sequential\n",
        "from keras.callbacks import EarlyStopping\n",
        "from keras.layers import Dense, LSTM, Dropout\n",
        "\n",
        "from sklearn.preprocessing import MinMaxScaler"
      ]
    },
    {
      "cell_type": "code",
      "source": [
        "data_dir = 'sp500.csv'\n",
        "df = pd.read_csv(data_dir)"
      ],
      "metadata": {
        "id": "ZCDIgrD0CPfU"
      },
      "execution_count": null,
      "outputs": []
    },
    {
      "cell_type": "markdown",
      "source": [
        "Read Data"
      ],
      "metadata": {
        "id": "VdpEY2BYMvCM"
      }
    },
    {
      "cell_type": "code",
      "source": [
        "df.info()"
      ],
      "metadata": {
        "colab": {
          "base_uri": "https://localhost:8080/"
        },
        "id": "b7ch4CYvD38w",
        "outputId": "ac4a789e-b903-4757-88b8-ef352f986ae0"
      },
      "execution_count": null,
      "outputs": [
        {
          "output_type": "stream",
          "name": "stdout",
          "text": [
            "<class 'pandas.core.frame.DataFrame'>\n",
            "RangeIndex: 4697 entries, 0 to 4696\n",
            "Data columns (total 6 columns):\n",
            " #   Column  Non-Null Count  Dtype  \n",
            "---  ------  --------------  -----  \n",
            " 0   Date    4697 non-null   object \n",
            " 1   Open    4697 non-null   float64\n",
            " 2   High    4697 non-null   float64\n",
            " 3   Low     4697 non-null   float64\n",
            " 4   Close   4697 non-null   float64\n",
            " 5   Volume  4697 non-null   int64  \n",
            "dtypes: float64(4), int64(1), object(1)\n",
            "memory usage: 220.3+ KB\n"
          ]
        }
      ]
    },
    {
      "cell_type": "code",
      "source": [
        "df.head()"
      ],
      "metadata": {
        "colab": {
          "base_uri": "https://localhost:8080/",
          "height": 206
        },
        "id": "5BHGKopBElu9",
        "outputId": "d2f6fe39-6f20-407f-a1fd-39f6e06f6aa6"
      },
      "execution_count": null,
      "outputs": [
        {
          "output_type": "execute_result",
          "data": {
            "text/plain": [
              "       Date         Open         High          Low        Close      Volume\n",
              "0  03-01-00  1469.250000  1478.000000  1438.359985  1455.219971   931800000\n",
              "1  04-01-00  1455.219971  1455.219971  1397.430054  1399.420044  1009000000\n",
              "2  05-01-00  1399.420044  1413.270020  1377.680054  1402.109985  1085500000\n",
              "3  06-01-00  1402.109985  1411.900024  1392.099976  1403.449951  1092300000\n",
              "4  07-01-00  1403.449951  1441.469971  1400.729980  1441.469971  1225200000"
            ],
            "text/html": [
              "\n",
              "  <div id=\"df-7ee4c301-8ce1-47f1-aff0-c510efb6411f\">\n",
              "    <div class=\"colab-df-container\">\n",
              "      <div>\n",
              "<style scoped>\n",
              "    .dataframe tbody tr th:only-of-type {\n",
              "        vertical-align: middle;\n",
              "    }\n",
              "\n",
              "    .dataframe tbody tr th {\n",
              "        vertical-align: top;\n",
              "    }\n",
              "\n",
              "    .dataframe thead th {\n",
              "        text-align: right;\n",
              "    }\n",
              "</style>\n",
              "<table border=\"1\" class=\"dataframe\">\n",
              "  <thead>\n",
              "    <tr style=\"text-align: right;\">\n",
              "      <th></th>\n",
              "      <th>Date</th>\n",
              "      <th>Open</th>\n",
              "      <th>High</th>\n",
              "      <th>Low</th>\n",
              "      <th>Close</th>\n",
              "      <th>Volume</th>\n",
              "    </tr>\n",
              "  </thead>\n",
              "  <tbody>\n",
              "    <tr>\n",
              "      <th>0</th>\n",
              "      <td>03-01-00</td>\n",
              "      <td>1469.250000</td>\n",
              "      <td>1478.000000</td>\n",
              "      <td>1438.359985</td>\n",
              "      <td>1455.219971</td>\n",
              "      <td>931800000</td>\n",
              "    </tr>\n",
              "    <tr>\n",
              "      <th>1</th>\n",
              "      <td>04-01-00</td>\n",
              "      <td>1455.219971</td>\n",
              "      <td>1455.219971</td>\n",
              "      <td>1397.430054</td>\n",
              "      <td>1399.420044</td>\n",
              "      <td>1009000000</td>\n",
              "    </tr>\n",
              "    <tr>\n",
              "      <th>2</th>\n",
              "      <td>05-01-00</td>\n",
              "      <td>1399.420044</td>\n",
              "      <td>1413.270020</td>\n",
              "      <td>1377.680054</td>\n",
              "      <td>1402.109985</td>\n",
              "      <td>1085500000</td>\n",
              "    </tr>\n",
              "    <tr>\n",
              "      <th>3</th>\n",
              "      <td>06-01-00</td>\n",
              "      <td>1402.109985</td>\n",
              "      <td>1411.900024</td>\n",
              "      <td>1392.099976</td>\n",
              "      <td>1403.449951</td>\n",
              "      <td>1092300000</td>\n",
              "    </tr>\n",
              "    <tr>\n",
              "      <th>4</th>\n",
              "      <td>07-01-00</td>\n",
              "      <td>1403.449951</td>\n",
              "      <td>1441.469971</td>\n",
              "      <td>1400.729980</td>\n",
              "      <td>1441.469971</td>\n",
              "      <td>1225200000</td>\n",
              "    </tr>\n",
              "  </tbody>\n",
              "</table>\n",
              "</div>\n",
              "      <button class=\"colab-df-convert\" onclick=\"convertToInteractive('df-7ee4c301-8ce1-47f1-aff0-c510efb6411f')\"\n",
              "              title=\"Convert this dataframe to an interactive table.\"\n",
              "              style=\"display:none;\">\n",
              "        \n",
              "  <svg xmlns=\"http://www.w3.org/2000/svg\" height=\"24px\"viewBox=\"0 0 24 24\"\n",
              "       width=\"24px\">\n",
              "    <path d=\"M0 0h24v24H0V0z\" fill=\"none\"/>\n",
              "    <path d=\"M18.56 5.44l.94 2.06.94-2.06 2.06-.94-2.06-.94-.94-2.06-.94 2.06-2.06.94zm-11 1L8.5 8.5l.94-2.06 2.06-.94-2.06-.94L8.5 2.5l-.94 2.06-2.06.94zm10 10l.94 2.06.94-2.06 2.06-.94-2.06-.94-.94-2.06-.94 2.06-2.06.94z\"/><path d=\"M17.41 7.96l-1.37-1.37c-.4-.4-.92-.59-1.43-.59-.52 0-1.04.2-1.43.59L10.3 9.45l-7.72 7.72c-.78.78-.78 2.05 0 2.83L4 21.41c.39.39.9.59 1.41.59.51 0 1.02-.2 1.41-.59l7.78-7.78 2.81-2.81c.8-.78.8-2.07 0-2.86zM5.41 20L4 18.59l7.72-7.72 1.47 1.35L5.41 20z\"/>\n",
              "  </svg>\n",
              "      </button>\n",
              "      \n",
              "  <style>\n",
              "    .colab-df-container {\n",
              "      display:flex;\n",
              "      flex-wrap:wrap;\n",
              "      gap: 12px;\n",
              "    }\n",
              "\n",
              "    .colab-df-convert {\n",
              "      background-color: #E8F0FE;\n",
              "      border: none;\n",
              "      border-radius: 50%;\n",
              "      cursor: pointer;\n",
              "      display: none;\n",
              "      fill: #1967D2;\n",
              "      height: 32px;\n",
              "      padding: 0 0 0 0;\n",
              "      width: 32px;\n",
              "    }\n",
              "\n",
              "    .colab-df-convert:hover {\n",
              "      background-color: #E2EBFA;\n",
              "      box-shadow: 0px 1px 2px rgba(60, 64, 67, 0.3), 0px 1px 3px 1px rgba(60, 64, 67, 0.15);\n",
              "      fill: #174EA6;\n",
              "    }\n",
              "\n",
              "    [theme=dark] .colab-df-convert {\n",
              "      background-color: #3B4455;\n",
              "      fill: #D2E3FC;\n",
              "    }\n",
              "\n",
              "    [theme=dark] .colab-df-convert:hover {\n",
              "      background-color: #434B5C;\n",
              "      box-shadow: 0px 1px 3px 1px rgba(0, 0, 0, 0.15);\n",
              "      filter: drop-shadow(0px 1px 2px rgba(0, 0, 0, 0.3));\n",
              "      fill: #FFFFFF;\n",
              "    }\n",
              "  </style>\n",
              "\n",
              "      <script>\n",
              "        const buttonEl =\n",
              "          document.querySelector('#df-7ee4c301-8ce1-47f1-aff0-c510efb6411f button.colab-df-convert');\n",
              "        buttonEl.style.display =\n",
              "          google.colab.kernel.accessAllowed ? 'block' : 'none';\n",
              "\n",
              "        async function convertToInteractive(key) {\n",
              "          const element = document.querySelector('#df-7ee4c301-8ce1-47f1-aff0-c510efb6411f');\n",
              "          const dataTable =\n",
              "            await google.colab.kernel.invokeFunction('convertToInteractive',\n",
              "                                                     [key], {});\n",
              "          if (!dataTable) return;\n",
              "\n",
              "          const docLinkHtml = 'Like what you see? Visit the ' +\n",
              "            '<a target=\"_blank\" href=https://colab.research.google.com/notebooks/data_table.ipynb>data table notebook</a>'\n",
              "            + ' to learn more about interactive tables.';\n",
              "          element.innerHTML = '';\n",
              "          dataTable['output_type'] = 'display_data';\n",
              "          await google.colab.output.renderOutput(dataTable, element);\n",
              "          const docLink = document.createElement('div');\n",
              "          docLink.innerHTML = docLinkHtml;\n",
              "          element.appendChild(docLink);\n",
              "        }\n",
              "      </script>\n",
              "    </div>\n",
              "  </div>\n",
              "  "
            ]
          },
          "metadata": {},
          "execution_count": 18
        }
      ]
    },
    {
      "cell_type": "code",
      "source": [
        "data_train.isnull().sum()"
      ],
      "metadata": {
        "colab": {
          "base_uri": "https://localhost:8080/"
        },
        "id": "8LvlMUx_CiRV",
        "outputId": "bcb0890f-8ea5-4763-92e6-72c211e307dd"
      },
      "execution_count": null,
      "outputs": [
        {
          "output_type": "execute_result",
          "data": {
            "text/plain": [
              "Date      0\n",
              "Open      0\n",
              "High      0\n",
              "Low       0\n",
              "Close     0\n",
              "Volume    0\n",
              "dtype: int64"
            ]
          },
          "metadata": {},
          "execution_count": 19
        }
      ]
    },
    {
      "cell_type": "markdown",
      "source": [
        "no null data"
      ],
      "metadata": {
        "id": "70uvtCjMLfJg"
      }
    },
    {
      "cell_type": "code",
      "source": [
        "df.describe()"
      ],
      "metadata": {
        "colab": {
          "base_uri": "https://localhost:8080/",
          "height": 300
        },
        "id": "aXRw6H9HE1kq",
        "outputId": "7e0d4855-9b07-4e71-a0ba-ed9c6a27be8d"
      },
      "execution_count": null,
      "outputs": [
        {
          "output_type": "execute_result",
          "data": {
            "text/plain": [
              "              Open         High          Low        Close        Volume\n",
              "count  4697.000000  4697.000000  4697.000000  4697.000000  4.697000e+03\n",
              "mean   1482.568296  1491.141438  1473.341761  1482.764537  3.053978e+09\n",
              "std     487.313638   487.480250   487.187033   487.468657  1.508356e+09\n",
              "min     679.280029   695.270020   666.789978   676.530029  3.560700e+08\n",
              "25%    1139.930054  1147.459961  1131.810059  1139.930054  1.593820e+09\n",
              "50%    1330.290039  1338.209961  1321.890015  1329.780029  3.152470e+09\n",
              "75%    1806.550049  1811.079956  1801.349976  1807.229980  3.920750e+09\n",
              "max    2908.939941  2916.500000  2898.399902  2914.040039  1.145623e+10"
            ],
            "text/html": [
              "\n",
              "  <div id=\"df-a2338d03-abc1-449d-b658-d0bdd7a6d713\">\n",
              "    <div class=\"colab-df-container\">\n",
              "      <div>\n",
              "<style scoped>\n",
              "    .dataframe tbody tr th:only-of-type {\n",
              "        vertical-align: middle;\n",
              "    }\n",
              "\n",
              "    .dataframe tbody tr th {\n",
              "        vertical-align: top;\n",
              "    }\n",
              "\n",
              "    .dataframe thead th {\n",
              "        text-align: right;\n",
              "    }\n",
              "</style>\n",
              "<table border=\"1\" class=\"dataframe\">\n",
              "  <thead>\n",
              "    <tr style=\"text-align: right;\">\n",
              "      <th></th>\n",
              "      <th>Open</th>\n",
              "      <th>High</th>\n",
              "      <th>Low</th>\n",
              "      <th>Close</th>\n",
              "      <th>Volume</th>\n",
              "    </tr>\n",
              "  </thead>\n",
              "  <tbody>\n",
              "    <tr>\n",
              "      <th>count</th>\n",
              "      <td>4697.000000</td>\n",
              "      <td>4697.000000</td>\n",
              "      <td>4697.000000</td>\n",
              "      <td>4697.000000</td>\n",
              "      <td>4.697000e+03</td>\n",
              "    </tr>\n",
              "    <tr>\n",
              "      <th>mean</th>\n",
              "      <td>1482.568296</td>\n",
              "      <td>1491.141438</td>\n",
              "      <td>1473.341761</td>\n",
              "      <td>1482.764537</td>\n",
              "      <td>3.053978e+09</td>\n",
              "    </tr>\n",
              "    <tr>\n",
              "      <th>std</th>\n",
              "      <td>487.313638</td>\n",
              "      <td>487.480250</td>\n",
              "      <td>487.187033</td>\n",
              "      <td>487.468657</td>\n",
              "      <td>1.508356e+09</td>\n",
              "    </tr>\n",
              "    <tr>\n",
              "      <th>min</th>\n",
              "      <td>679.280029</td>\n",
              "      <td>695.270020</td>\n",
              "      <td>666.789978</td>\n",
              "      <td>676.530029</td>\n",
              "      <td>3.560700e+08</td>\n",
              "    </tr>\n",
              "    <tr>\n",
              "      <th>25%</th>\n",
              "      <td>1139.930054</td>\n",
              "      <td>1147.459961</td>\n",
              "      <td>1131.810059</td>\n",
              "      <td>1139.930054</td>\n",
              "      <td>1.593820e+09</td>\n",
              "    </tr>\n",
              "    <tr>\n",
              "      <th>50%</th>\n",
              "      <td>1330.290039</td>\n",
              "      <td>1338.209961</td>\n",
              "      <td>1321.890015</td>\n",
              "      <td>1329.780029</td>\n",
              "      <td>3.152470e+09</td>\n",
              "    </tr>\n",
              "    <tr>\n",
              "      <th>75%</th>\n",
              "      <td>1806.550049</td>\n",
              "      <td>1811.079956</td>\n",
              "      <td>1801.349976</td>\n",
              "      <td>1807.229980</td>\n",
              "      <td>3.920750e+09</td>\n",
              "    </tr>\n",
              "    <tr>\n",
              "      <th>max</th>\n",
              "      <td>2908.939941</td>\n",
              "      <td>2916.500000</td>\n",
              "      <td>2898.399902</td>\n",
              "      <td>2914.040039</td>\n",
              "      <td>1.145623e+10</td>\n",
              "    </tr>\n",
              "  </tbody>\n",
              "</table>\n",
              "</div>\n",
              "      <button class=\"colab-df-convert\" onclick=\"convertToInteractive('df-a2338d03-abc1-449d-b658-d0bdd7a6d713')\"\n",
              "              title=\"Convert this dataframe to an interactive table.\"\n",
              "              style=\"display:none;\">\n",
              "        \n",
              "  <svg xmlns=\"http://www.w3.org/2000/svg\" height=\"24px\"viewBox=\"0 0 24 24\"\n",
              "       width=\"24px\">\n",
              "    <path d=\"M0 0h24v24H0V0z\" fill=\"none\"/>\n",
              "    <path d=\"M18.56 5.44l.94 2.06.94-2.06 2.06-.94-2.06-.94-.94-2.06-.94 2.06-2.06.94zm-11 1L8.5 8.5l.94-2.06 2.06-.94-2.06-.94L8.5 2.5l-.94 2.06-2.06.94zm10 10l.94 2.06.94-2.06 2.06-.94-2.06-.94-.94-2.06-.94 2.06-2.06.94z\"/><path d=\"M17.41 7.96l-1.37-1.37c-.4-.4-.92-.59-1.43-.59-.52 0-1.04.2-1.43.59L10.3 9.45l-7.72 7.72c-.78.78-.78 2.05 0 2.83L4 21.41c.39.39.9.59 1.41.59.51 0 1.02-.2 1.41-.59l7.78-7.78 2.81-2.81c.8-.78.8-2.07 0-2.86zM5.41 20L4 18.59l7.72-7.72 1.47 1.35L5.41 20z\"/>\n",
              "  </svg>\n",
              "      </button>\n",
              "      \n",
              "  <style>\n",
              "    .colab-df-container {\n",
              "      display:flex;\n",
              "      flex-wrap:wrap;\n",
              "      gap: 12px;\n",
              "    }\n",
              "\n",
              "    .colab-df-convert {\n",
              "      background-color: #E8F0FE;\n",
              "      border: none;\n",
              "      border-radius: 50%;\n",
              "      cursor: pointer;\n",
              "      display: none;\n",
              "      fill: #1967D2;\n",
              "      height: 32px;\n",
              "      padding: 0 0 0 0;\n",
              "      width: 32px;\n",
              "    }\n",
              "\n",
              "    .colab-df-convert:hover {\n",
              "      background-color: #E2EBFA;\n",
              "      box-shadow: 0px 1px 2px rgba(60, 64, 67, 0.3), 0px 1px 3px 1px rgba(60, 64, 67, 0.15);\n",
              "      fill: #174EA6;\n",
              "    }\n",
              "\n",
              "    [theme=dark] .colab-df-convert {\n",
              "      background-color: #3B4455;\n",
              "      fill: #D2E3FC;\n",
              "    }\n",
              "\n",
              "    [theme=dark] .colab-df-convert:hover {\n",
              "      background-color: #434B5C;\n",
              "      box-shadow: 0px 1px 3px 1px rgba(0, 0, 0, 0.15);\n",
              "      filter: drop-shadow(0px 1px 2px rgba(0, 0, 0, 0.3));\n",
              "      fill: #FFFFFF;\n",
              "    }\n",
              "  </style>\n",
              "\n",
              "      <script>\n",
              "        const buttonEl =\n",
              "          document.querySelector('#df-a2338d03-abc1-449d-b658-d0bdd7a6d713 button.colab-df-convert');\n",
              "        buttonEl.style.display =\n",
              "          google.colab.kernel.accessAllowed ? 'block' : 'none';\n",
              "\n",
              "        async function convertToInteractive(key) {\n",
              "          const element = document.querySelector('#df-a2338d03-abc1-449d-b658-d0bdd7a6d713');\n",
              "          const dataTable =\n",
              "            await google.colab.kernel.invokeFunction('convertToInteractive',\n",
              "                                                     [key], {});\n",
              "          if (!dataTable) return;\n",
              "\n",
              "          const docLinkHtml = 'Like what you see? Visit the ' +\n",
              "            '<a target=\"_blank\" href=https://colab.research.google.com/notebooks/data_table.ipynb>data table notebook</a>'\n",
              "            + ' to learn more about interactive tables.';\n",
              "          element.innerHTML = '';\n",
              "          dataTable['output_type'] = 'display_data';\n",
              "          await google.colab.output.renderOutput(dataTable, element);\n",
              "          const docLink = document.createElement('div');\n",
              "          docLink.innerHTML = docLinkHtml;\n",
              "          element.appendChild(docLink);\n",
              "        }\n",
              "      </script>\n",
              "    </div>\n",
              "  </div>\n",
              "  "
            ]
          },
          "metadata": {},
          "execution_count": 21
        }
      ]
    },
    {
      "cell_type": "markdown",
      "source": [
        "#### Visualization"
      ],
      "metadata": {
        "id": "mTHDRx-sO9HJ"
      }
    },
    {
      "cell_type": "code",
      "source": [
        "dates = data_train['Date'].values\n",
        "temp  = data_train['Open'].values\n",
        " \n",
        " \n",
        "plt.figure(figsize=(15,5))\n",
        "plt.plot(dates, temp)\n",
        "plt.title('Open average',\n",
        "          fontsize=20);"
      ],
      "metadata": {
        "colab": {
          "base_uri": "https://localhost:8080/",
          "height": 361
        },
        "id": "nuVHi7Z6ClmF",
        "outputId": "030105d2-b900-40ab-f9a1-4bcc1ff03a5d"
      },
      "execution_count": null,
      "outputs": [
        {
          "output_type": "display_data",
          "data": {
            "text/plain": [
              "<Figure size 1080x360 with 1 Axes>"
            ],
            "image/png": "[encoded data removed]"
          },
          "metadata": {}
        }
      ]
    },
    {
      "cell_type": "markdown",
      "source": [
        "split data into data train data test"
      ],
      "metadata": {
        "id": "WohTxfn0NCZb"
      }
    },
    {
      "cell_type": "code",
      "source": [
        "from sklearn.model_selection import train_test_split\n",
        "\n",
        "X, y = np.arange(10).reshape((5, 2)), range(5)"
      ],
      "metadata": {
        "id": "VHVPp2wxF-T-"
      },
      "execution_count": null,
      "outputs": []
    },
    {
      "cell_type": "code",
      "source": [
        "X"
      ],
      "metadata": {
        "colab": {
          "base_uri": "https://localhost:8080/"
        },
        "id": "DdPv7ZViGJ1D",
        "outputId": "42b3e40a-4a30-4449-8500-231371e28649"
      },
      "execution_count": null,
      "outputs": [
        {
          "output_type": "execute_result",
          "data": {
            "text/plain": [
              "array([[0, 1],\n",
              "       [2, 3],\n",
              "       [4, 5],\n",
              "       [6, 7],\n",
              "       [8, 9]])"
            ]
          },
          "metadata": {},
          "execution_count": 24
        }
      ]
    },
    {
      "cell_type": "code",
      "source": [
        "list(y)"
      ],
      "metadata": {
        "colab": {
          "base_uri": "https://localhost:8080/"
        },
        "id": "vcdjD_RtGOmi",
        "outputId": "ede03b4c-b2f2-41d9-e982-4a7290af1969"
      },
      "execution_count": null,
      "outputs": [
        {
          "output_type": "execute_result",
          "data": {
            "text/plain": [
              "[0, 1, 2, 3, 4]"
            ]
          },
          "metadata": {},
          "execution_count": 25
        }
      ]
    },
    {
      "cell_type": "code",
      "source": [
        "X_train, X_test, y_train, y_test = train_test_split( X, y, test_size=0.2, random_state=42)"
      ],
      "metadata": {
        "id": "83DbBecqGRpI"
      },
      "execution_count": null,
      "outputs": []
    },
    {
      "cell_type": "code",
      "source": [
        "n_cols = 1\n",
        "dataset = df[\"Open\"]\n",
        "dataset = pd.DataFrame(dataset)\n",
        "data = dataset.values\n",
        "\n",
        "data.shape"
      ],
      "metadata": {
        "colab": {
          "base_uri": "https://localhost:8080/"
        },
        "id": "vSKOFHkbGTd4",
        "outputId": "f0bd548c-f1fe-4a0d-f89f-d9c5f455f322"
      },
      "execution_count": null,
      "outputs": [
        {
          "output_type": "execute_result",
          "data": {
            "text/plain": [
              "(4697, 1)"
            ]
          },
          "metadata": {},
          "execution_count": 27
        }
      ]
    },
    {
      "cell_type": "markdown",
      "source": [
        "Using MinMaxScaler"
      ],
      "metadata": {
        "id": "dQ19-YBaNMC5"
      }
    },
    {
      "cell_type": "code",
      "source": [
        "from sklearn.preprocessing import MinMaxScaler\n",
        "scaler = MinMaxScaler(feature_range= (0, 1))\n",
        "scaled_data = scaler.fit_transform(np.array(data))"
      ],
      "metadata": {
        "id": "y0thQO54Gawd"
      },
      "execution_count": null,
      "outputs": []
    },
    {
      "cell_type": "markdown",
      "source": [
        "The validation set is 20% of the total dataset"
      ],
      "metadata": {
        "id": "pGHxx5yKNc3a"
      }
    },
    {
      "cell_type": "code",
      "source": [
        "train_size = int(len(data) * 20/100)\n",
        "test_size = len(data) - train_size\n",
        "print(\"Train Size :\",train_size,\"Test Size :\",test_size)"
      ],
      "metadata": {
        "colab": {
          "base_uri": "https://localhost:8080/"
        },
        "id": "sbXDNE2_GeJT",
        "outputId": "e2684c74-e926-4978-e90d-33a5c7628aad"
      },
      "execution_count": null,
      "outputs": [
        {
          "output_type": "stream",
          "name": "stdout",
          "text": [
            "Train Size : 939 Test Size : 3758\n"
          ]
        }
      ]
    },
    {
      "cell_type": "code",
      "source": [
        "train_data = scaled_data[0:train_size, :]\n",
        "train_data.shape"
      ],
      "metadata": {
        "colab": {
          "base_uri": "https://localhost:8080/"
        },
        "id": "xSA_eSC3GgET",
        "outputId": "51bac876-83a5-432c-db42-80be061ec406"
      },
      "execution_count": null,
      "outputs": [
        {
          "output_type": "execute_result",
          "data": {
            "text/plain": [
              "(939, 1)"
            ]
          },
          "metadata": {},
          "execution_count": 30
        }
      ]
    },
    {
      "cell_type": "code",
      "source": [
        "x_train = []\n",
        "y_train = []\n",
        "time_steps = 60\n",
        "n_cols = 1\n",
        "\n",
        "for i in range(time_steps, len(scaled_data)):\n",
        "    x_train.append(scaled_data[i-time_steps:i, :n_cols])\n",
        "    y_train.append(scaled_data[i, :n_cols])\n",
        "    if i<=time_steps:\n",
        "        print('X_train: ', x_train)\n",
        "        print('y_train:' , y_train)"
      ],
      "metadata": {
        "colab": {
          "base_uri": "https://localhost:8080/"
        },
        "id": "oAldCu1rGnE7",
        "outputId": "abc7d196-e902-4e08-9006-4820bdb0bb47"
      },
      "execution_count": null,
      "outputs": [
        {
          "output_type": "stream",
          "name": "stdout",
          "text": [
            "X_train:  [array([[0.35430066],\n",
            "       [0.3480082 ],\n",
            "       [0.322982  ],\n",
            "       [0.32418843],\n",
            "       [0.32478941],\n",
            "       [0.34184134],\n",
            "       [0.34907563],\n",
            "       [0.34053625],\n",
            "       [0.3377062 ],\n",
            "       [0.34552356],\n",
            "       [0.35246182],\n",
            "       [0.34797234],\n",
            "       [0.34831321],\n",
            "       [0.34368018],\n",
            "       [0.34179202],\n",
            "       [0.32392832],\n",
            "       [0.32774057],\n",
            "       [0.32507645],\n",
            "       [0.3225963 ],\n",
            "       [0.30537393],\n",
            "       [0.32075741],\n",
            "       [0.32740419],\n",
            "       [0.32733242],\n",
            "       [0.33444111],\n",
            "       [0.33417202],\n",
            "       [0.33411372],\n",
            "       [0.34195347],\n",
            "       [0.32848952],\n",
            "       [0.33079033],\n",
            "       [0.31746544],\n",
            "       [0.31873018],\n",
            "       [0.32416155],\n",
            "       [0.31771214],\n",
            "       [0.31797674],\n",
            "       [0.29906352],\n",
            "       [0.30179043],\n",
            "       [0.30561159],\n",
            "       [0.30235554],\n",
            "       [0.29335414],\n",
            "       [0.29994261],\n",
            "       [0.30818154],\n",
            "       [0.31390882],\n",
            "       [0.31506149],\n",
            "       [0.32735486],\n",
            "       [0.31933121],\n",
            "       [0.30333773],\n",
            "       [0.30830707],\n",
            "       [0.32400005],\n",
            "       [0.32103098],\n",
            "       [0.31589569],\n",
            "       [0.30492094],\n",
            "       [0.3197214 ],\n",
            "       [0.34946583],\n",
            "       [0.35215682],\n",
            "       [0.3486406 ],\n",
            "       [0.3653427 ],\n",
            "       [0.36837904],\n",
            "       [0.38035843],\n",
            "       [0.38040776],\n",
            "       [0.37879317]])]\n",
            "y_train: [array([0.37155889])]\n"
          ]
        }
      ]
    },
    {
      "cell_type": "code",
      "source": [
        "x_train, y_train = np.array(x_train), np.array(y_train)"
      ],
      "metadata": {
        "id": "f0FB2zdAGo2Q"
      },
      "execution_count": null,
      "outputs": []
    },
    {
      "cell_type": "code",
      "source": [
        "x_train = np.reshape(x_train, (x_train.shape[0], x_train.shape[1], n_cols))"
      ],
      "metadata": {
        "id": "uULC7bO4GuUf"
      },
      "execution_count": null,
      "outputs": []
    },
    {
      "cell_type": "code",
      "source": [
        "x_train.shape , y_train.shape"
      ],
      "metadata": {
        "colab": {
          "base_uri": "https://localhost:8080/"
        },
        "id": "yQZgfwBQGw6W",
        "outputId": "1de4c655-52c1-49b5-841c-f14f0169bdef"
      },
      "execution_count": null,
      "outputs": [
        {
          "output_type": "execute_result",
          "data": {
            "text/plain": [
              "((4637, 60, 1), (4637, 1))"
            ]
          },
          "metadata": {},
          "execution_count": 34
        }
      ]
    },
    {
      "cell_type": "code",
      "source": [
        "model = Sequential([\n",
        "    LSTM(50, return_sequences= True, input_shape= (x_train.shape[1], n_cols)),\n",
        "    LSTM(64, return_sequences= False),\n",
        "    Dense(32),\n",
        "    Dense(16),\n",
        "    Dense(n_cols)\n",
        "])\n",
        "optimizer = tf.keras.optimizers.SGD(lr=1.0000e-04, momentum=0.9)\n",
        "model.compile(loss=tf.keras.losses.Huber(),\n",
        "              optimizer=optimizer,\n",
        "              metrics=[\"mae\"])"
      ],
      "metadata": {
        "colab": {
          "base_uri": "https://localhost:8080/"
        },
        "id": "7TahyuhYG3w6",
        "outputId": "21eb5266-6922-4c6d-f362-3587a7247765"
      },
      "execution_count": null,
      "outputs": [
        {
          "output_type": "stream",
          "name": "stderr",
          "text": [
            "/usr/local/lib/python3.8/dist-packages/keras/optimizers/optimizer_v2/gradient_descent.py:108: UserWarning: The `lr` argument is deprecated, use `learning_rate` instead.\n",
            "  super(SGD, self).__init__(name, **kwargs)\n"
          ]
        }
      ]
    },
    {
      "cell_type": "code",
      "source": [
        "model.summary()"
      ],
      "metadata": {
        "colab": {
          "base_uri": "https://localhost:8080/"
        },
        "id": "juBQUwFyG5Wt",
        "outputId": "88c9071f-fb8c-4405-91e6-cdfa35b55c27"
      },
      "execution_count": null,
      "outputs": [
        {
          "output_type": "stream",
          "name": "stdout",
          "text": [
            "Model: \"sequential\"\n",
            "_________________________________________________________________\n",
            " Layer (type)                Output Shape              Param #   \n",
            "=================================================================\n",
            " lstm (LSTM)                 (None, 60, 50)            10400     \n",
            "                                                                 \n",
            " lstm_1 (LSTM)               (None, 64)                29440     \n",
            "                                                                 \n",
            " dense (Dense)               (None, 32)                2080      \n",
            "                                                                 \n",
            " dense_1 (Dense)             (None, 16)                528       \n",
            "                                                                 \n",
            " dense_2 (Dense)             (None, 1)                 17        \n",
            "                                                                 \n",
            "=================================================================\n",
            "Total params: 42,465\n",
            "Trainable params: 42,465\n",
            "Non-trainable params: 0\n",
            "_________________________________________________________________\n"
          ]
        }
      ]
    },
    {
      "cell_type": "code",
      "source": [
        "minMae = (df['Open'].max() - df['Open'].min()) * 10/100\n",
        "good_mae = minMae\n",
        "good_mae"
      ],
      "metadata": {
        "colab": {
          "base_uri": "https://localhost:8080/"
        },
        "id": "We26lFhfG-_S",
        "outputId": "035f5867-83f8-4308-919f-7fc9a8f4b26d"
      },
      "execution_count": null,
      "outputs": [
        {
          "output_type": "execute_result",
          "data": {
            "text/plain": [
              "222.9659912"
            ]
          },
          "metadata": {},
          "execution_count": 38
        }
      ]
    },
    {
      "cell_type": "code",
      "source": [
        "history = model.fit(x_train, y_train, epochs= 5, batch_size= 32)"
      ],
      "metadata": {
        "colab": {
          "base_uri": "https://localhost:8080/"
        },
        "id": "hwzDWdmnHNKy",
        "outputId": "7a0d2576-1045-4399-f75c-c07651c6e962"
      },
      "execution_count": null,
      "outputs": [
        {
          "output_type": "stream",
          "name": "stdout",
          "text": [
            "Epoch 1/5\n",
            "145/145 [==============================] - 9s 62ms/step - loss: 1.5156e-04 - mae: 0.0124\n",
            "Epoch 2/5\n",
            "145/145 [==============================] - 9s 61ms/step - loss: 1.4853e-04 - mae: 0.0124\n",
            "Epoch 3/5\n",
            "145/145 [==============================] - 9s 61ms/step - loss: 1.4599e-04 - mae: 0.0123\n",
            "Epoch 4/5\n",
            "145/145 [==============================] - 9s 61ms/step - loss: 1.4390e-04 - mae: 0.0122\n",
            "Epoch 5/5\n",
            "145/145 [==============================] - 9s 62ms/step - loss: 1.4219e-04 - mae: 0.0122\n"
          ]
        }
      ]
    },
    {
      "cell_type": "markdown",
      "source": [
        "The output shows a loss value of 1.4219e-04 and an MAE (mean absolute error) of 0.0122. Loss values ​​that are closer to zero and smaller MAE values ​​indicate that the model is capable of making predictions with high accuracy.\n",
        "\n",
        "To explain the output results in more detail, the loss value shows how accurate the model is in predicting stock prices based on the data provided. The smaller the loss value, the more accurate the predictions produced by the model. The MAE value shows how much the difference is between the predicted value and the actual value of the stock price in dollars. The smaller the MAE value, the closer the predicted value is to the actual value.\n",
        "\n",
        "However, to evaluate whether the model can be used to predict future stock prices, it is necessary to carry out further evaluation using data that the model has never seen. In addition, in conducting stock analysis it is also necessary to consider other factors such as market conditions, company policies, and global economic factors that can affect stock prices."
      ],
      "metadata": {
        "id": "jCSRHB4QOn0x"
      }
    }
  ]
}