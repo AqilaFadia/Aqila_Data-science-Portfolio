{
  "nbformat": 4,
  "nbformat_minor": 0,
  "metadata": {
    "colab": {
      "private_outputs": true,
      "provenance": []
    },
    "kernelspec": {
      "name": "python3",
      "display_name": "Python 3"
    },
    "language_info": {
      "name": "python"
    }
  },
  "cells": [
    {
      "cell_type": "code",
      "execution_count": null,
      "metadata": {
        "id": "nJsoru9w6eZz"
      },
      "outputs": [],
      "source": [
        "import pandas as pd\n",
        "import numpy as np\n",
        "import seaborn as sn\n",
        "import matplotlib.pyplot as plt\n",
        "\n",
        "from sklearn.cluster import KMeans\n",
        "from sklearn.metrics import silhouette_samples, silhouette_score"
      ]
    },
    {
      "cell_type": "code",
      "source": [
        "df = pd.read_csv('marketing_campaign_data.csv')\n",
        "df"
      ],
      "metadata": {
        "id": "fzXvzLCO6wYG"
      },
      "execution_count": null,
      "outputs": []
    },
    {
      "cell_type": "markdown",
      "source": [
        "* ID: Unique calling number for each entry in the dataset.\n",
        "\n",
        "* Birth_Year: The customer's birth year.\n",
        "\n",
        "* Marital_Status: The customer's marital status.\n",
        "\n",
        "* Revenue: Customer's annual revenue.\n",
        "\n",
        "* Kidhome: Number of children under 12 years of age in the customer's household.\n",
        "\n",
        "* Teenhome: Number of teenagers aged 12-18 in the customer's household.\n",
        "\n",
        "* Dt_Customer: The date the customer joined or became a customer.\n",
        "\n",
        "* Recency: The number of days since the customer last interacted with the company.\n",
        "\n",
        "* MntCoke: The amount of money a customer fired to buy a Coca-Cola drink.\n",
        "\n",
        "* MntFruits: The amount of money that shoots customers to buy fruits.\n",
        "\n",
        "* MntMeatProducts: The amount of money that kills customers to buy meat products.\n",
        "\n",
        "* MntFishProducts: The amount of money a customer kills to buy fish products.\n",
        "\n",
        "* MntSweetProducts: The amount of money that kills customers to buy sweet food products.\n",
        "\n",
        "* MntGoldProds: The amount of money a customer kills to buy gold or jewelry products.\n",
        "\n",
        "* NumDealsPurchases: Number of customer purchases with special offers or discounts.\n",
        "\n",
        "* NumWebPurchases: The number of customer purchases through the company's website.\n",
        "\n",
        "* NumCatalogPurchases: The number of customer purchases through the company catalog.\n",
        "\n",
        "* NumStorePurchases: The number of customer purchases through the company's physical stores.\n",
        "\n",
        "* NumWebVisitsMonth: The number of customer visits to the company's website in a month.\n",
        "\n",
        "* AcceptedCmp3: Did the customer accept the campaign 3 promotional offer.\n",
        "\n",
        "* AcceptedCmp4: Did the customer accept the campaign promotion offer 4.\n",
        "\n",
        "* AcceptedCmp5: Did the customer accept the promotional offer of campaign 5.\n",
        "\n",
        "* AcceptedCmp1: Did the customer accept the promotion offer of campaign 1.\n",
        "\n",
        "* AcceptedCmp2: Whether the customer accepts campaign 2's promotional offer.\n",
        "\n",
        "* Complain: Did the customer file a complaint.\n",
        "\n",
        "* Z_CostContact: The cost the company incurs for each contact with a customer.\n",
        "\n",
        "* Z_Revenue: The revenue a company generates from each contact with a customer.\n",
        "\n",
        "* Feedback: whether customers are responding positively to company offers or campaigns."
      ],
      "metadata": {
        "id": "nGYw9oXGAxP0"
      }
    },
    {
      "cell_type": "markdown",
      "source": [
        "## EDA"
      ],
      "metadata": {
        "id": "uzge7E1P99oJ"
      }
    },
    {
      "cell_type": "markdown",
      "source": [
        "### Feature Engineering"
      ],
      "metadata": {
        "id": "FUfiYmmN-A0o"
      }
    },
    {
      "cell_type": "code",
      "source": [
        "df.info()"
      ],
      "metadata": {
        "id": "Ls5mf48bDoNu"
      },
      "execution_count": null,
      "outputs": []
    },
    {
      "cell_type": "markdown",
      "source": [
        "Performing feature engineering: conversion rates"
      ],
      "metadata": {
        "id": "etjzR5l8B2vP"
      }
    },
    {
      "cell_type": "code",
      "source": [
        "df['Age'] = [2023] - df['Year_Birth']\n",
        "df['Number_of_children']= df['Kidhome'] + df['Teenhome']\n",
        "df['Total_Expenses'] = df['MntCoke'] + df['MntFruits'] + df['MntMeatProducts'] + df['MntFishProducts'] + df['MntSweetProducts'] + df['MntGoldProds']\n",
        "df['Total_Transactions'] = df['NumDealsPurchases'] + df['NumWebPurchases'] + df['NumCatalogPurchases'] + df['NumStorePurchases']\n",
        "df['Income_per_Transaction'] = df['Income'] / df['Total_Transactions']\n",
        "df['Visit_Frequency'] = df['NumWebVisitsMonth'] + df['Recency']\n",
        "df['conversion_rate'] = df['Response'] / df['Visit_Frequency']\n",
        "df['Campaign_Interactions'] = df['AcceptedCmp3'] + df['AcceptedCmp1'] + df['AcceptedCmp2'] + df['AcceptedCmp4'] + df['AcceptedCmp5']\n",
        "\n",
        "df[['Age', 'Number_of_children', 'Total_Expenses', 'Total_Transactions', 'Income_per_Transaction', 'Visit_Frequency', 'conversion_rate',\n",
        "    'Campaign_Interactions']]"
      ],
      "metadata": {
        "id": "AyJYcUlJ-FWg"
      },
      "execution_count": null,
      "outputs": []
    },
    {
      "cell_type": "markdown",
      "source": [
        "Counting and classifying 'age' into several groups"
      ],
      "metadata": {
        "id": "PBYUTcnVK7MR"
      }
    },
    {
      "cell_type": "code",
      "source": [
        "intervals = [0, 29, 39, 49,59, np.inf]\n",
        "labels = ['20-29', '30-39', '40-49', '50-59', '60+']\n",
        "df['Range_Age'] = pd.cut(df['Age'], bins=intervals, labels=labels, right=False)\n",
        "\n",
        "# Displays data after adding a new column\n",
        "df[['Age', 'Range_Age', 'conversion_rate', 'Campaign_Interactions']]\n"
      ],
      "metadata": {
        "id": "4XaGTk5fJ5D2"
      },
      "execution_count": null,
      "outputs": []
    },
    {
      "cell_type": "markdown",
      "source": [
        "## Visualization"
      ],
      "metadata": {
        "id": "uK97YnCmNyvf"
      }
    },
    {
      "cell_type": "code",
      "source": [
        "import seaborn as sns\n",
        "\n",
        "# Plot the responses for different events and regions\n",
        "sns.lineplot(x='Range_Age', y='conversion_rate',\n",
        "             hue='Campaign_Interactions',\n",
        "             data=df)\n"
      ],
      "metadata": {
        "id": "vssJtzbAj8hJ"
      },
      "execution_count": null,
      "outputs": []
    },
    {
      "cell_type": "code",
      "source": [
        "df.info()"
      ],
      "metadata": {
        "id": "o40Bw5a8BSQw"
      },
      "execution_count": null,
      "outputs": []
    },
    {
      "cell_type": "code",
      "source": [
        "Categorical = ['Education','Marital_Status', 'Income_per_Transaction', 'Range_Age' ]\n",
        "Numericals = ['Year_Birth', 'Income', 'Kidhome', 'Teenhome', 'Recency', 'Complain', 'Response', 'Age',\n",
        "              'Number_of_children', 'Total_Expenses', 'Total_Transactions', 'Visit_Frequency', 'conversion_rate','Campaign_Interactions']\n",
        "Mnt = ['MntCoke', 'MntFruits', 'MntMeatProducts', 'MntFishProducts', 'MntSweetProducts', 'MntGoldProds']\n",
        "Num = ['NumDealsPurchases', 'NumWebPurchases', 'NumCatalogPurchases', 'NumStorePurchases', 'NumWebVisitsMonth']\n",
        "campg = ['AcceptedCmp3', 'AcceptedCmp4', 'AcceptedCmp5', 'AcceptedCmp1', 'AcceptedCmp2']\n"
      ],
      "metadata": {
        "id": "_PgWlgDSAmqj"
      },
      "execution_count": null,
      "outputs": []
    },
    {
      "cell_type": "code",
      "source": [
        "\n",
        "plt.figure(figsize=(12,45))\n",
        "for i in range(0, len(Numericals)):\n",
        "    plt.subplot(len(Numericals), 5,i+1)\n",
        "    sns.boxplot(y=df[Numericals[i]], color='blue', orient='v')\n",
        "    plt.tight_layout()"
      ],
      "metadata": {
        "id": "r64ZQ70OEe1-"
      },
      "execution_count": null,
      "outputs": []
    },
    {
      "cell_type": "code",
      "source": [
        "plt.figure(figsize=(20, 10))\n",
        "for i in range(len(Numericals)):\n",
        "    plt.subplot(4, 4, i+1)\n",
        "    sns.kdeplot(x=df[Numericals[i]], color='green')\n",
        "    plt.tight_layout()\n"
      ],
      "metadata": {
        "id": "qatUCIDlFhiS"
      },
      "execution_count": null,
      "outputs": []
    },
    {
      "cell_type": "code",
      "source": [
        "for i in range(len(Categorical)):\n",
        "    plt.figure(figsize=(15,5))\n",
        "    sns.countplot(x=df[Categorical[i]], data=df, color='green')"
      ],
      "metadata": {
        "id": "DvpXkxf4G1WF"
      },
      "execution_count": null,
      "outputs": []
    },
    {
      "cell_type": "code",
      "source": [
        "plt.figure(figsize=(20,8))\n",
        "sns.heatmap(df.corr(), annot=True, fmt='.2f', cmap='YlGnBu')"
      ],
      "metadata": {
        "id": "BnN2Ri9HH5OJ"
      },
      "execution_count": null,
      "outputs": []
    },
    {
      "cell_type": "markdown",
      "source": [
        "#### Handle null and duplicate data"
      ],
      "metadata": {
        "id": "LtJBG0XuoIDh"
      }
    },
    {
      "cell_type": "code",
      "source": [
        "df.isnull().sum()"
      ],
      "metadata": {
        "id": "tBqI8sVK-bkd"
      },
      "execution_count": null,
      "outputs": []
    },
    {
      "cell_type": "code",
      "source": [
        "# remove oulier based on IQR because the majority of the data is not normally distributed\n",
        "print(f'Number of rows before filtering outliers: {len(df)}')\n",
        "\n",
        "filtered_entries = np.array([True] * len(df))\n",
        "for col in Numericals:\n",
        "    Q1 = df[col].quantile(0.25)\n",
        "    Q3 = df[col].quantile(0.75)\n",
        "    IQR = Q3 - Q1\n",
        "    low_limit = Q1 - (IQR * 1.5)\n",
        "    high_limit = Q3 + (IQR * 1.5)\n",
        "\n",
        "    filtered_entries = ((df[col] >= low_limit) & (df[col] <= high_limit)) & filtered_entries\n",
        "\n",
        "df = df[filtered_entries]\n",
        "\n",
        "print(f'Number of rows after filtering outliers: {len(df)}')"
      ],
      "metadata": {
        "id": "9tppO82eNEkg"
      },
      "execution_count": null,
      "outputs": []
    },
    {
      "cell_type": "code",
      "source": [
        "df['Income'] = df['Income'].fillna(0).astype(int)\n",
        "df['Income_per_Transaction'] = df['Income_per_Transaction'].fillna(0).astype(str)\n",
        "\n",
        "df.isnull().sum()"
      ],
      "metadata": {
        "id": "kPANPjAM_s4v"
      },
      "execution_count": null,
      "outputs": []
    },
    {
      "cell_type": "code",
      "source": [
        "# check for duplicates of all columns\n",
        "\n",
        "df.duplicated().sum()"
      ],
      "metadata": {
        "id": "WoeoZDM2BGYo"
      },
      "execution_count": null,
      "outputs": []
    },
    {
      "cell_type": "markdown",
      "source": [
        "Delete unnecessary data"
      ],
      "metadata": {
        "id": "Tcxpmh7VoYr5"
      }
    },
    {
      "cell_type": "code",
      "source": [
        "df = df.drop('Z_CostContact', axis=1)\n",
        "df = df.drop('Z_Revenue', axis=1)\n",
        "\n",
        "\n",
        "df.info()"
      ],
      "metadata": {
        "id": "hBcoh2ITAfyt"
      },
      "execution_count": null,
      "outputs": []
    },
    {
      "cell_type": "markdown",
      "source": [
        "Melakukan feature encoding"
      ],
      "metadata": {
        "id": "LGt3lX3gocQi"
      }
    },
    {
      "cell_type": "code",
      "source": [
        "# encoding of all categorical columns\n",
        "\n",
        "Categorical = ['Education','Marital_Status', 'Dt_Customer','Income_per_Transaction', 'Range_Age']\n",
        "df_enc = df.copy()\n",
        "for i in Categorical[1:]:\n",
        "    df_enc[i] = df_enc[i].astype('category').cat.codes"
      ],
      "metadata": {
        "id": "vh5JcHsIckA4"
      },
      "execution_count": null,
      "outputs": []
    },
    {
      "cell_type": "code",
      "source": [
        "df_enc.head()"
      ],
      "metadata": {
        "id": "7fqc2uFlctiD"
      },
      "execution_count": null,
      "outputs": []
    },
    {
      "cell_type": "markdown",
      "source": [
        "Standardization of features"
      ],
      "metadata": {
        "id": "HvTKFUhNof_A"
      }
    },
    {
      "cell_type": "code",
      "source": [
        "# drop some features\n",
        "df_new = df.drop(columns=['Unnamed: 0', 'Year_Birth', 'ID', 'Education', 'Marital_Status', 'Kidhome', 'Teenhome', 'Dt_Customer', 'Recency',\n",
        "                          'MntCoke', 'MntFruits', 'MntMeatProducts', 'MntFishProducts', 'MntSweetProducts', 'MntGoldProds',\n",
        "                          'Number_of_children', 'Income_per_Transaction', 'Range_Age']).copy()\n",
        "df_new"
      ],
      "metadata": {
        "id": "CaXAOrhTYEn4"
      },
      "execution_count": null,
      "outputs": []
    },
    {
      "cell_type": "code",
      "source": [
        "df_new.columns"
      ],
      "metadata": {
        "id": "XAotZSZ8bJc2"
      },
      "execution_count": null,
      "outputs": []
    },
    {
      "cell_type": "code",
      "source": [
        "# feature standardization first\n",
        "feature = ['Income', 'NumDealsPurchases', 'NumWebPurchases', 'NumCatalogPurchases',\n",
        "       'NumStorePurchases', 'NumWebVisitsMonth', 'AcceptedCmp3',\n",
        "       'AcceptedCmp4', 'AcceptedCmp5', 'AcceptedCmp1', 'AcceptedCmp2',\n",
        "       'Complain', 'Response', 'Age', 'Total_Expenses', 'Total_Transactions',\n",
        "       'Visit_Frequency', 'conversion_rate', 'Campaign_Interactions']\n",
        "X = df_new.values\n",
        "\n",
        "from sklearn.preprocessing import StandardScaler\n",
        "X_std = StandardScaler().fit_transform(X)\n",
        "df_std = pd.DataFrame(data = X_std, columns = feature).head()\n",
        "df_std.describe()"
      ],
      "metadata": {
        "id": "vgXxjBRvlmCn"
      },
      "execution_count": null,
      "outputs": []
    },
    {
      "cell_type": "code",
      "source": [
        "df_std"
      ],
      "metadata": {
        "id": "dWU5ahPYb9dc"
      },
      "execution_count": null,
      "outputs": []
    },
    {
      "cell_type": "code",
      "source": [
        "# PCA\n",
        "from sklearn.decomposition import PCA\n",
        "pcs = PCA(n_components=4).fit_transform(X_std)\n",
        "df_pca = pd.DataFrame(data = pcs, columns = ['pc1','pc2','pc3','pc4'])\n",
        "df_pca.describe()"
      ],
      "metadata": {
        "id": "1VskHIRRb-ud"
      },
      "execution_count": null,
      "outputs": []
    },
    {
      "cell_type": "markdown",
      "source": [
        "#### Seeing the exact number of clusters using the elbow method"
      ],
      "metadata": {
        "id": "ssLTgeM6bM4Z"
      }
    },
    {
      "cell_type": "code",
      "source": [
        "inertia = []\n",
        "\n",
        "for i in range(1,11):\n",
        "    kmeans = KMeans(n_clusters=i, init='k-means++', max_iter=300, n_init=10, random_state=42)\n",
        "    kmeans.fit(df_pca.values)\n",
        "    inertia.append(kmeans.inertia_)"
      ],
      "metadata": {
        "id": "7o6n1JGscCqv"
      },
      "execution_count": null,
      "outputs": []
    },
    {
      "cell_type": "code",
      "source": [
        "# visualization of the results of the elbow method\n",
        "sns.lineplot(x=range(1,11), y=inertia, linewidth=3)\n",
        "sns.scatterplot(x=range(1,11), y=inertia, s=60)"
      ],
      "metadata": {
        "id": "xAT39gZAdQmr"
      },
      "execution_count": null,
      "outputs": []
    },
    {
      "cell_type": "code",
      "source": [
        "(pd.Series(inertia) - pd.Series(inertia).shift(-1)) / pd.Series(inertia) * 100"
      ],
      "metadata": {
        "id": "JGedX6r2dWqG"
      },
      "execution_count": null,
      "outputs": []
    },
    {
      "cell_type": "markdown",
      "source": [
        "clustering implementation using k-means clustering"
      ],
      "metadata": {
        "id": "Ec0uqKsgepOY"
      }
    },
    {
      "cell_type": "code",
      "source": [
        "# fit model\n",
        "kmeans = KMeans(n_clusters=3, init='k-means++', max_iter=300, n_init=10, random_state=42)\n",
        "kmeans.fit(df_pca.values)\n",
        "df_pca['labels_cluster'] = kmeans.labels_"
      ],
      "metadata": {
        "id": "iHnJJRpBeb9d"
      },
      "execution_count": null,
      "outputs": []
    },
    {
      "cell_type": "code",
      "source": [
        "df_pca"
      ],
      "metadata": {
        "id": "wLiAp7UqeuEo"
      },
      "execution_count": null,
      "outputs": []
    },
    {
      "cell_type": "markdown",
      "source": [
        "The silhouette score calculation looks at how the model's performance is obtained"
      ],
      "metadata": {
        "id": "N64b1LzZe7oM"
      }
    },
    {
      "cell_type": "code",
      "source": [
        "# visualization of clustering results\n",
        "sns.scatterplot(data=df_pca, x='pc1', y='pc2', hue='labels_cluster')"
      ],
      "metadata": {
        "id": "x1wacMtWez-L"
      },
      "execution_count": null,
      "outputs": []
    },
    {
      "cell_type": "code",
      "source": [
        "# calculate the silhouette score\n",
        "X_sil = df_pca.drop(columns='labels_cluster').values\n",
        "labels = df_pca['labels_cluster'].values\n",
        "silhouette_avg = silhouette_score(X_sil, labels)\n",
        "silhouette_avg"
      ],
      "metadata": {
        "id": "5mHEtNu4fOfU"
      },
      "execution_count": null,
      "outputs": []
    },
    {
      "cell_type": "code",
      "source": [
        "# silhouette score visualization\n",
        "sample_silhouette_values = silhouette_samples(X_sil, labels)\n",
        "\n",
        "n_clusters = 3\n",
        "y_lower = 10\n",
        "fig, ax1 = plt.subplots(1, 1)\n",
        "fig.set_size_inches(6, 4)\n",
        "ax1.set_xlim([-0.1, 1])\n",
        "ax1.set_ylim([0, len(X) + (n_clusters + 1) * 10])\n",
        "\n",
        "for i in range(n_clusters):\n",
        "    ith_cluster_silhouette_values = sample_silhouette_values[labels == i]\n",
        "    ith_cluster_silhouette_values.sort()\n",
        "\n",
        "    size_cluster_i = ith_cluster_silhouette_values.shape[0]\n",
        "    y_upper = y_lower + size_cluster_i\n",
        "\n",
        "    color = plt.cm.get_cmap(\"Spectral\")(float(i) / n_clusters)\n",
        "    ax1.fill_betweenx(np.arange(y_lower, y_upper),\n",
        "                          0, ith_cluster_silhouette_values,\n",
        "                          facecolor=color, edgecolor=color, alpha=0.7)\n",
        "    ax1.text(-0.05, y_lower + 0.5 * size_cluster_i, str(i))\n",
        "    y_lower = y_upper + 10\n",
        "\n",
        "ax1.axvline(x=silhouette_avg, color=\"red\", linestyle=\"--\")\n",
        "ax1.set_xlabel(\"Silhouette Coefficient Values\")\n",
        "ax1.set_ylabel(\"Cluster Label\")\n",
        "ax1.set_yticks([])\n",
        "plt.title((\"Silhouette analysis for KMeans clustering on sample data \"\n",
        "               \"with n_clusters = %d\" % n_clusters),\n",
        "              fontsize=10, fontweight='bold')\n",
        "plt.show()"
      ],
      "metadata": {
        "id": "87FVFfdMfRx4"
      },
      "execution_count": null,
      "outputs": []
    },
    {
      "cell_type": "code",
      "source": [
        "# restore data to original\n",
        "for col in Categorical[1:]:\n",
        "    codes = df_enc[col].unique()\n",
        "    labels = df[col].unique()\n",
        "    mapping = dict(zip(codes, labels))\n",
        "    df_enc[col] = df_enc[col].replace(mapping)\n",
        "\n",
        "df_enc['labels_cluster'] = kmeans.labels_\n",
        "df_enc.sample(5)\n",
        "\n"
      ],
      "metadata": {
        "id": "fL9CsQFBXEj3"
      },
      "execution_count": null,
      "outputs": []
    },
    {
      "cell_type": "code",
      "source": [
        "# numeric column\n",
        "df_nums = df_enc[Numericals]\n",
        "df_nums['label'] = df_enc['labels_cluster']\n",
        "\n",
        "df_nums.groupby('label').agg(['mean', 'median', 'std'])"
      ],
      "metadata": {
        "id": "NPI0z4MGWFAo"
      },
      "execution_count": null,
      "outputs": []
    },
    {
      "cell_type": "code",
      "source": [
        "df_enc.info()"
      ],
      "metadata": {
        "id": "eYgPMpk1e8XK"
      },
      "execution_count": null,
      "outputs": []
    },
    {
      "cell_type": "markdown",
      "source": [
        "Choose a cluster to do retargeting marketing"
      ],
      "metadata": {
        "id": "exnkMHezinp1"
      }
    },
    {
      "cell_type": "code",
      "source": [
        "df_cats = df_enc[Categorical].drop(columns=['Income_per_Transaction', 'Dt_Customer'])\n",
        "df_cats['label'] = df_enc['labels_cluster']\n",
        "\n",
        "df_cats.groupby('label').agg(pd.Series.mode)\n"
      ],
      "metadata": {
        "id": "MSh-Z-LxYNGt"
      },
      "execution_count": null,
      "outputs": []
    },
    {
      "cell_type": "markdown",
      "source": [
        "The interpretation of these results is as follows:\n",
        "\n",
        "* Cluster 0 has the majority of customers with undergraduate education level, marital status Married, and age range 50-59.\n",
        "* Cluster 1 has the majority of customers with an undergraduate education level, marital status is Married, and the age range is 60 and above.\n",
        "* Cluster 2 also has the majority of customers with an undergraduate education level, marital status is Married, and the age range is 60 and over."
      ],
      "metadata": {
        "id": "xszZwjcLj4Y0"
      }
    }
  ]
}